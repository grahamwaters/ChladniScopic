{
 "cells": [
  {
   "cell_type": "code",
   "execution_count": 1,
   "metadata": {},
   "outputs": [
    {
     "name": "stderr",
     "output_type": "stream",
     "text": [
      "/var/folders/34/d1tlq3k91hb0lj6x90xpzb4r0000gn/T/ipykernel_30732/743042923.py:36: DeprecationWarning: Starting with ImageIO v3 the behavior of this function will switch to that of iio.v3.imread. To keep the current behavior (and make this warning dissapear) use `import imageio.v2 as imageio` or call `imageio.v2.imread` directly.\n",
      "  frames.append(imageio.imread(filename))\n"
     ]
    }
   ],
   "source": [
    "import numpy as np\n",
    "import matplotlib.pyplot as plt\n",
    "from scipy import signal\n",
    "import imageio\n",
    "import os\n",
    "\n",
    "# create a directory to save the figures\n",
    "if not os.path.exists('images'):\n",
    "    os.makedirs('images')\n",
    "\n",
    "# Create a grid\n",
    "x = np.linspace(-1, 1, 300)\n",
    "y = np.linspace(-1, 1, 300)\n",
    "X, Y = np.meshgrid(x, y)\n",
    "\n",
    "# Initialize a list to store the frames\n",
    "frames = []\n",
    "\n",
    "# Loop over frequencies\n",
    "for i in range(1, 31):\n",
    "\n",
    "    # Create a Chladni pattern\n",
    "    Z = np.sin(i * np.pi * X) * np.sin(i * np.pi * Y)\n",
    "\n",
    "    # Plot the pattern\n",
    "    plt.figure(figsize=(5,5))\n",
    "    plt.imshow(Z, cmap='plasma', interpolation='bicubic', extent=[-1, 1, -1, 1])\n",
    "    plt.axis('off')\n",
    "\n",
    "    # Save the figure\n",
    "    filename = f'images/frame_{i:02d}.png'\n",
    "    plt.savefig(filename)\n",
    "    plt.close()\n",
    "\n",
    "    # Append the frame to the list\n",
    "    frames.append(imageio.imread(filename))\n",
    "\n",
    "# Create a gif\n",
    "imageio.mimsave('chladni_patterns.gif', frames, 'GIF', duration=0.3)\n",
    "\n",
    "# Clean up the images directory\n",
    "for filename in os.listdir('images'):\n",
    "    os.remove(f'images/{filename}')\n",
    "\n",
    "os.rmdir('images')\n"
   ]
  },
  {
   "cell_type": "code",
   "execution_count": null,
   "metadata": {},
   "outputs": [],
   "source": []
  }
 ],
 "metadata": {
  "kernelspec": {
   "display_name": "base",
   "language": "python",
   "name": "python3"
  },
  "language_info": {
   "codemirror_mode": {
    "name": "ipython",
    "version": 3
   },
   "file_extension": ".py",
   "mimetype": "text/x-python",
   "name": "python",
   "nbconvert_exporter": "python",
   "pygments_lexer": "ipython3",
   "version": "3.9.13"
  },
  "orig_nbformat": 4
 },
 "nbformat": 4,
 "nbformat_minor": 2
}
